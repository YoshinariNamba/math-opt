{
 "cells": [
  {
   "cell_type": "markdown",
   "metadata": {},
   "source": [
    "## Unconstrained Optimization"
   ]
  },
  {
   "cell_type": "code",
   "execution_count": 25,
   "metadata": {},
   "outputs": [],
   "source": [
    "## import \n",
    "import numpy as np\n",
    "import pandas as pd\n",
    "import matplotlib.pyplot as plt\n",
    "import seaborn as sns"
   ]
  },
  {
   "cell_type": "markdown",
   "metadata": {},
   "source": [
    "### Setup"
   ]
  },
  {
   "cell_type": "markdown",
   "metadata": {},
   "source": [
    "Define the objective function:\n",
    "$$\n",
    "    f(\\bm{x}) = (x_1-2)^4 + (x_1-2x_2)^2\n",
    "$$\n",
    "where $\\bm{x} = (x_1, x_2)^{\\top} \\in \\mathbb{R}$. The gradient is \n",
    "$$\n",
    "    \\nabla f(\\bm{x}) = \\left[\\begin{array}{c}\n",
    "        4(x_1 -2)^3 + 2(x_1 - 2x_2) \\\\\n",
    "        -4(x_1 - 2x_2)\n",
    "    \\end{array} \\right],\n",
    "$$\n",
    "and the Hessian is\n",
    "$$\n",
    "    \\nabla^2 f(\\bm{x}) = \\left[\\begin{array}{cc}\n",
    "        12(x_1 -2)^2 + 2 & -4 \\\\\n",
    "        -4 & 8\n",
    "    \\end{array} \\right].\n",
    "$$"
   ]
  },
  {
   "cell_type": "code",
   "execution_count": 26,
   "metadata": {},
   "outputs": [],
   "source": [
    "# defintion of objective function\n",
    "class my_object:\n",
    "    def __init__(self):\n",
    "        self.attribute = None\n",
    "    def objective_func(self, x):\n",
    "        x_1 = x[0]\n",
    "        x_2 = x[1]\n",
    "        y = (x_1 - 2)**4 + (x_1 - 2*x_2)**2\n",
    "        return(y)\n",
    "    def objective_grad(self, x):\n",
    "        x_1 = x[0]\n",
    "        x_2 = x[1]\n",
    "        grad_x1 = 4*(x_1-2)**3 + 2*(x_1 - 2*x_2)\n",
    "        grad_x2 = -4*(x_1-2*x_2)\n",
    "        grad = np.array([grad_x1, grad_x2])\n",
    "        return(grad)\n",
    "    def objective_hess(self, x):\n",
    "        x_1 = x[0]\n",
    "        hes_11 = 12*(x_1 -2)**2 + 2\n",
    "        hes_12 = -4\n",
    "        hes_22 = 8\n",
    "        hessian = np.array([hes_11, hes_12, hes_12, hes_22]).reshape(2, 2)\n",
    "        return(hessian)"
   ]
  },
  {
   "cell_type": "code",
   "execution_count": 27,
   "metadata": {},
   "outputs": [
    {
     "name": "stdout",
     "output_type": "stream",
     "text": [
      "52\n",
      "[ 44 -24]\n"
     ]
    }
   ],
   "source": [
    "# instance\n",
    "my_obj = my_object()\n",
    "\n",
    "# set initial value\n",
    "x_init = np.array([0, 3])\n",
    "\n",
    "# value and gradient at initial value\n",
    "print(my_obj.objective_func(x_init))\n",
    "print( -my_obj.objective_grad(x_init))"
   ]
  },
  {
   "cell_type": "code",
   "execution_count": 28,
   "metadata": {},
   "outputs": [
    {
     "name": "stdout",
     "output_type": "stream",
     "text": [
      "52\n"
     ]
    }
   ],
   "source": [
    "def g(x, d, alpha):\n",
    "    g_value = my_obj.objective_func( (x + alpha*d) )\n",
    "    return g_value\n",
    "\n",
    "print(g((x_init), -my_obj.objective_grad(x_init), alpha=0))"
   ]
  },
  {
   "cell_type": "code",
   "execution_count": 29,
   "metadata": {},
   "outputs": [
    {
     "name": "stdout",
     "output_type": "stream",
     "text": [
      "2.220446049250313e-16\n"
     ]
    }
   ],
   "source": [
    "from sys import float_info\n",
    "print(float_info.epsilon)"
   ]
  },
  {
   "cell_type": "markdown",
   "metadata": {},
   "source": [
    "### Implementation of Steepest Descent Method"
   ]
  },
  {
   "cell_type": "code",
   "execution_count": 45,
   "metadata": {},
   "outputs": [
    {
     "name": "stdout",
     "output_type": "stream",
     "text": [
      "------iter: 50 --------\n",
      "x: [0.91986887 2.24772142]\n",
      "value: 14.145879027616447\n",
      "grad: [-12.19183162  14.30229586]\n",
      "alpha: 0.0013013798143971594\n",
      "------iter: 100 --------\n",
      "x: [1.46799013 1.47105432]\n",
      "value: 2.253133903210537\n",
      "grad: [-3.55054561  5.89647403]\n",
      "alpha: 0.0018315022217166787\n",
      "------iter: 150 --------\n",
      "x: [1.67556051 1.11251907]\n",
      "value: 0.31300554398076785\n",
      "grad: [-1.23555855  2.19791053]\n",
      "alpha: 0.001945343428517255\n",
      "------iter: 200 --------\n",
      "x: [1.752512   0.97617011]\n",
      "value: 0.04368291534675688\n",
      "grad: [-0.46029129  0.79931286]\n",
      "alpha: 0.0019649933621386415\n",
      "------iter: 250 --------\n",
      "x: [1.78217736 0.92654938]\n",
      "value: 0.0072810331220494245\n",
      "grad: [-0.18318264  0.28368556]\n",
      "alpha: 0.001984841779938022\n",
      "------iter: 300 --------\n",
      "x: [1.79472025 0.90901328]\n",
      "value: 0.0023189443917405426\n",
      "grad: [-0.08121438  0.09322522]\n",
      "alpha: 0.0020662606957299588\n",
      "------iter: 350 --------\n",
      "x: [1.80148805 0.90316933]\n",
      "value: 0.0015764397341104014\n",
      "grad: [-0.04099228  0.01940248]\n",
      "alpha: 0.0030272460413199812\n",
      "------iter: 400 --------\n",
      "x: [1.83234993 0.91520629]\n",
      "value: 0.0007937312142313035\n",
      "grad: [-0.01497357 -0.00774937]\n",
      "alpha: 0.0747172094331596\n",
      "------iter: 450 --------\n",
      "x: [1.87666293 0.93795066]\n",
      "value: 0.0002319859685988895\n",
      "grad: [-0.00598159 -0.00304647]\n",
      "alpha: 0.1\n",
      "------iter: 500 --------\n",
      "x: [1.89889782 0.94924017]\n",
      "value: 0.00010465644706991468\n",
      "grad: [-0.00329878 -0.00166989]\n",
      "alpha: 0.1\n",
      "------iter: 550 --------\n",
      "x: [1.91226008 0.95599395]\n",
      "value: 5.933779939600861e-05\n",
      "grad: [-0.00215741 -0.00108877]\n",
      "alpha: 0.1\n",
      "------iter: 600 --------\n",
      "x: [1.92142081 0.96061278]\n",
      "value: 3.8164907546617476e-05\n",
      "grad: [-0.00155033 -0.00078095]\n",
      "alpha: 0.1\n",
      "------iter: 650 --------\n",
      "x: [1.92820317 0.9640272 ]\n",
      "value: 2.659393772413456e-05\n",
      "grad: [-0.00118284 -0.0005951 ]\n",
      "alpha: 0.1\n",
      "------iter: 700 --------\n",
      "x: [1.93348555 0.96668367]\n",
      "value: 1.9587266906781745e-05\n",
      "grad: [-0.00094066 -0.00047284]\n",
      "alpha: 0.1\n",
      "------result--------\n",
      "# of outer iteration: 712\n",
      "# of inner iteration: 150642\n",
      "optimizer: [1.93467814 0.96728309]\n",
      "optimum value: 1.8219359172353212e-05\n"
     ]
    }
   ],
   "source": [
    "# set initial value\n",
    "outer_counter = 0\n",
    "inner_counter = 0\n",
    "# my_epsilon = float_info.epsilon\n",
    "my_epsilon = 0.001#0.00001\n",
    "x = x_init\n",
    "beta = 0.99\n",
    "alpha_init = 0.1\n",
    "\n",
    "# configuration for iteration\n",
    "display_grid = 50\n",
    "\n",
    "# to save path\n",
    "x_path_sd = np.array([x])\n",
    "f_path_sd = np.array([my_obj.objective_func(x)])\n",
    "\n",
    "# steepest decent method\n",
    "while (np.linalg.norm(my_obj.objective_grad(x)) > my_epsilon):\n",
    "    # report the iteration\n",
    "    if ( (outer_counter+1)%display_grid == 0):\n",
    "        print(\"------iter: {}\".format(outer_counter+1), \"--------\")\n",
    "        print(\"x: {}\".format(x) )\n",
    "        print(\"value: {}\".format(my_obj.objective_func(x)))\n",
    "        print(\"grad: {}\".format(my_obj.objective_grad(x)))\n",
    "    \n",
    "    # update step direction\n",
    "    d = -  my_obj.objective_grad(x)\n",
    "    \n",
    "    # reset initial alpha\n",
    "    alpha = alpha_init\n",
    "    # backtraking for line search based on Armijo rule\n",
    "    while (g(x, d, alpha) > g(x, d, 0) + beta*np.dot(my_obj.objective_grad(x + 0*d),d)*alpha):\n",
    "        #print(\"--inner iter: {}\".format(inner_counter+1), \"--\")\n",
    "        #if ( (inner_counter+1)%100 == 0):\n",
    "        #    print(\"--inner iter: {}\".format(inner_counter+1), \"--\")\n",
    "        #    print(\"alpha: {}\".format(alpha))\n",
    "        alpha = beta*alpha\n",
    "        inner_counter = inner_counter + 1\n",
    "    if ( (outer_counter+1)%display_grid == 0):\n",
    "        print(\"alpha: {}\".format(alpha))\n",
    "    # update x\n",
    "    x = x + alpha*d\n",
    "    outer_counter = outer_counter + 1\n",
    "    x_path_sd = np.append(x_path_sd, x)\n",
    "    f_path_sd = np.append(f_path_sd, my_obj.objective_func(x))\n",
    "\n",
    "# report the results\n",
    "print(\"------result--------\")\n",
    "print(\"# of outer iteration: {}\".format(outer_counter))\n",
    "print(\"# of inner iteration: {}\".format(inner_counter))\n",
    "print(\"optimizer: {}\".format(x))\n",
    "print(\"optimum value: {}\".format(my_obj.objective_func(x)))"
   ]
  },
  {
   "cell_type": "code",
   "execution_count": 46,
   "metadata": {},
   "outputs": [
    {
     "data": {
      "image/png": "[encoded data removed]",
      "text/plain": [
       "<Figure size 1440x1080 with 1 Axes>"
      ]
     },
     "metadata": {
      "needs_background": "light"
     },
     "output_type": "display_data"
    }
   ],
   "source": [
    "iteration = range((outer_counter + 1))\n",
    "f_val = f_path_sd\n",
    "\n",
    "plt.figure(figsize=(20, 15))\n",
    "plt.plot(iteration, f_val, '-')\n",
    "\n",
    "plt.show()"
   ]
  },
  {
   "cell_type": "markdown",
   "metadata": {},
   "source": [
    "### Implementation of Newton Method"
   ]
  },
  {
   "cell_type": "code",
   "execution_count": 47,
   "metadata": {},
   "outputs": [
    {
     "name": "stdout",
     "output_type": "stream",
     "text": [
      "------result--------\n",
      "# of iteration: 9\n",
      "optimizer: [1.94797541 0.97398771]\n",
      "optimum value: 7.325455873891569e-06\n"
     ]
    }
   ],
   "source": [
    "# set initial value\n",
    "counter = 0\n",
    "#my_epsilon = 0.01\n",
    "x = x_init\n",
    "\n",
    "# configuration for iteration\n",
    "display_grid = 5\n",
    "\n",
    "# to save path\n",
    "x_path_nw = np.array([x])\n",
    "f_path_nw = np.array([my_obj.objective_func(x)])\n",
    "\n",
    "# steepest decent method\n",
    "while (np.linalg.norm(my_obj.objective_grad(x)) > my_epsilon):\n",
    "    # report the iteration\n",
    "    if ( (outer_counter+1)%display_grid == 0):\n",
    "        print(\"------iter: {}\".format(outer_counter+1), \"--------\")\n",
    "        print(\"x: {}\".format(x) )\n",
    "        print(\"value: {}\".format(my_obj.objective_func(x)))\n",
    "        print(\"grad: {}\".format(my_obj.objective_grad(x)))\n",
    "    \n",
    "    # update step direction\n",
    "    d = -  np.matmul(np.linalg.inv(my_obj.objective_hess(x)), my_obj.objective_grad(x))\n",
    "    \n",
    "    x = x + d\n",
    "    counter = counter + 1\n",
    "    x_path_nw = np.append(x_path_nw, x)\n",
    "    f_path_nw = np.append(f_path_nw, my_obj.objective_func(x))\n",
    "\n",
    "# report the results\n",
    "print(\"------result--------\")\n",
    "print(\"# of iteration: {}\".format(counter))\n",
    "print(\"optimizer: {}\".format(x))\n",
    "print(\"optimum value: {}\".format(my_obj.objective_func(x)))"
   ]
  },
  {
   "cell_type": "markdown",
   "metadata": {},
   "source": [
    "### Comparison of Steepest Descent Method and Newton Method"
   ]
  },
  {
   "cell_type": "code",
   "execution_count": 59,
   "metadata": {},
   "outputs": [
    {
     "data": {
      "image/png": "[encoded data removed]",
      "text/plain": [
       "<Figure size 1080x720 with 1 Axes>"
      ]
     },
     "metadata": {
      "needs_background": "light"
     },
     "output_type": "display_data"
    }
   ],
   "source": [
    "plt.figure(figsize=(15, 10))\n",
    "\n",
    "iteration = range((outer_counter + 1))\n",
    "f_val = f_path_sd\n",
    "plt.plot(iteration[0:50], f_val[0:50], '-', label='Steepest Descent')\n",
    "\n",
    "iteration = range((counter + 1))\n",
    "f_val = f_path_nw\n",
    "plt.plot(iteration, f_val, '-', label='Newton')\n",
    "\n",
    "#plt.grid()\n",
    "plt.xlabel('Iteration', fontsize=20)\n",
    "plt.ylabel('Value', fontsize=20)\n",
    "plt.title(\"Steepest Descent Method and Newton Method\", fontsize=20)\n",
    "plt.legend(fontsize=15)\n",
    "plt.show()"
   ]
  }
 ],
 "metadata": {
  "kernelspec": {
   "display_name": "base",
   "language": "python",
   "name": "python3"
  },
  "language_info": {
   "codemirror_mode": {
    "name": "ipython",
    "version": 3
   },
   "file_extension": ".py",
   "mimetype": "text/x-python",
   "name": "python",
   "nbconvert_exporter": "python",
   "pygments_lexer": "ipython3",
   "version": "3.9.7"
  }
 },
 "nbformat": 4,
 "nbformat_minor": 2
}
